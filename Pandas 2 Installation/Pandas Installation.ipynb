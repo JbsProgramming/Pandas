{
 "cells": [
  {
   "cell_type": "markdown",
   "id": "03a6430f",
   "metadata": {},
   "source": [
    "# Installation of Pandas\n",
    "\n",
    "If you have Python and PIP already installed on a system, then installation of Pandas is very easy.\n",
    "\n",
    "Install it using this command:\n",
    "C:\\Users\\Your Name>pip install pandas\n"
   ]
  },
  {
   "cell_type": "code",
   "execution_count": 1,
   "id": "ee4d9334",
   "metadata": {},
   "outputs": [
    {
     "name": "stdout",
     "output_type": "stream",
     "text": [
      "     Cars  Passings\n",
      "0     BMW         8\n",
      "1   Prado         6\n",
      "2  Toyota         3\n"
     ]
    }
   ],
   "source": [
    "import pandas\n",
    "\n",
    "mydataset = {\n",
    "    \"Cars\" : [\"BMW\", \"Prado\", \"Toyota\"],\n",
    "    \"Passings\" : [8, 6, 3]\n",
    "}\n",
    "\n",
    "dataset = pandas.DataFrame(mydataset) # syntax \"DataFrame\"\n",
    "\n",
    "print(dataset)"
   ]
  },
  {
   "cell_type": "code",
   "execution_count": 2,
   "id": "c9971c34",
   "metadata": {},
   "outputs": [
    {
     "name": "stdout",
     "output_type": "stream",
     "text": [
      "  CSE Student  Markings\n",
      "0       Jabed        85\n",
      "1        Sami        85\n",
      "2       Selim        83\n",
      "3       Rahat        85\n",
      "4        Saad        80\n"
     ]
    }
   ],
   "source": [
    "# pandas as pd\n",
    "import pandas as pd\n",
    "\n",
    "mydataset = {\n",
    "    \"CSE Student\": [\"Jabed\", \"Sami\", \"Selim\", \"Rahat\", \"Saad\"],\n",
    "    \"Markings\": [85, 85, 83, 85, 80]\n",
    "}\n",
    "\n",
    "data = pd.DataFrame(mydataset)\n",
    "print(data)"
   ]
  },
  {
   "cell_type": "markdown",
   "id": "8f4efc76",
   "metadata": {},
   "source": [
    "# Checking Pandas Version\n",
    "\n",
    "The version string is stored under <b>__ version __</b> attribute."
   ]
  },
  {
   "cell_type": "code",
   "execution_count": 3,
   "id": "c92866dc",
   "metadata": {},
   "outputs": [
    {
     "name": "stdout",
     "output_type": "stream",
     "text": [
      "1.4.4\n"
     ]
    }
   ],
   "source": [
    "import pandas as pd\n",
    "\n",
    "print(pd.__version__)"
   ]
  },
  {
   "cell_type": "code",
   "execution_count": null,
   "id": "0578a9e4",
   "metadata": {},
   "outputs": [],
   "source": []
  }
 ],
 "metadata": {
  "kernelspec": {
   "display_name": "Python 3 (ipykernel)",
   "language": "python",
   "name": "python3"
  },
  "language_info": {
   "codemirror_mode": {
    "name": "ipython",
    "version": 3
   },
   "file_extension": ".py",
   "mimetype": "text/x-python",
   "name": "python",
   "nbconvert_exporter": "python",
   "pygments_lexer": "ipython3",
   "version": "3.9.13"
  }
 },
 "nbformat": 4,
 "nbformat_minor": 5
}
