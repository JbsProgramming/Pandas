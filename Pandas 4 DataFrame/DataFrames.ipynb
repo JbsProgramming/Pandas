{
 "cells": [
  {
   "cell_type": "markdown",
   "id": "e348bfa6",
   "metadata": {},
   "source": [
    "# Pandas DataFrames"
   ]
  },
  {
   "cell_type": "markdown",
   "id": "0f30100a",
   "metadata": {},
   "source": [
    "# What is a DataFrame?\n",
    "\n",
    "A Pandas DataFrame is a 2 dimensional data structure, like a 2 dimensional array, or a table with rows and columns."
   ]
  },
  {
   "cell_type": "code",
   "execution_count": 1,
   "id": "7f305647",
   "metadata": {},
   "outputs": [
    {
     "name": "stdout",
     "output_type": "stream",
     "text": [
      "   Calories  Duration\n",
      "0       423        50\n",
      "1       382        41\n",
      "2       342        34\n"
     ]
    }
   ],
   "source": [
    "import pandas as pd\n",
    "\n",
    "data = {\n",
    "    \"Calories\": [423, 382, 342],\n",
    "    \"Duration\": [50, 41, 34]\n",
    "}\n",
    "\n",
    "# Load data into DataFrame object\n",
    "df = pd.DataFrame(data)\n",
    "print(df)"
   ]
  },
  {
   "cell_type": "markdown",
   "id": "2e996586",
   "metadata": {},
   "source": [
    "# Locate Row\n",
    "\n",
    "As you can see from the result above, the DataFrame is like a table with rows and columns.\n",
    "\n",
    "Pandas use the <b>loc</b> attribute to return one or more specified row(s)"
   ]
  },
  {
   "cell_type": "code",
   "execution_count": 3,
   "id": "5d7d485c",
   "metadata": {},
   "outputs": [
    {
     "name": "stdout",
     "output_type": "stream",
     "text": [
      "Calories    342\n",
      "Duration     34\n",
      "Name: 2, dtype: int64\n"
     ]
    }
   ],
   "source": [
    "import pandas as pd\n",
    "\n",
    "data = {\n",
    "    \"Calories\": [423, 382, 342],\n",
    "    \"Duration\": [50, 41, 34]\n",
    "}\n",
    "\n",
    "# Load data into DataFrame object\n",
    "df = pd.DataFrame(data) \n",
    "\n",
    "# locate row, syntax: \"loc[index number]\"\n",
    "print(df.loc[2])"
   ]
  },
  {
   "cell_type": "code",
   "execution_count": 5,
   "id": "a4389d1f",
   "metadata": {},
   "outputs": [
    {
     "name": "stdout",
     "output_type": "stream",
     "text": [
      "   Calories  Duration\n",
      "0       423        50\n",
      "2       342        34\n"
     ]
    }
   ],
   "source": [
    "# return two row using loc (locate row)\n",
    "import pandas as pd\n",
    "\n",
    "data = {\n",
    "    \"Calories\": [423, 382, 342],\n",
    "    \"Duration\": [50, 41, 34]\n",
    "}\n",
    "\n",
    "# Load data into DataFrame object\n",
    "df = pd.DataFrame(data) \n",
    "\n",
    "# locate row, syntax: \"loc[index number]\"\n",
    "print(df.loc[[0,2]])"
   ]
  },
  {
   "cell_type": "markdown",
   "id": "3df808b7",
   "metadata": {},
   "source": [
    "<i><b>Note:</b> When using [ ], the result is a Pandas DataFrame.</i>"
   ]
  },
  {
   "cell_type": "markdown",
   "id": "83094bf5",
   "metadata": {},
   "source": [
    "# Named Indexes\n",
    "\n",
    "With the <b>index</b> argument, you can name your own indexes."
   ]
  },
  {
   "cell_type": "code",
   "execution_count": 14,
   "id": "5fe86e9b",
   "metadata": {},
   "outputs": [
    {
     "name": "stdout",
     "output_type": "stream",
     "text": [
      "      Calories  Duration\n",
      "day1       423        50\n",
      "day2       382        41\n",
      "day3       342        34\n"
     ]
    }
   ],
   "source": [
    "# return two row using loc (locate row)\n",
    "import pandas as pd\n",
    "\n",
    "data = {\n",
    "    \"Calories\": [423, 382, 342],\n",
    "    \"Duration\": [50, 41, 34]\n",
    "}\n",
    "\n",
    "df = pd.DataFrame(data, index = [\"day1\", \"day2\", \"day3\"]) \n",
    "print(df)"
   ]
  },
  {
   "cell_type": "code",
   "execution_count": 15,
   "id": "20291633",
   "metadata": {},
   "outputs": [
    {
     "name": "stdout",
     "output_type": "stream",
     "text": [
      "      Calories  Duration\n",
      "day2       382        41\n",
      "day1       423        50\n"
     ]
    }
   ],
   "source": [
    "# return two row using loc (locate row)\n",
    "import pandas as pd\n",
    "\n",
    "data = {\n",
    "    \"Calories\": [423, 382, 342],\n",
    "    \"Duration\": [50, 41, 34]\n",
    "}\n",
    "\n",
    "df = pd.DataFrame(data, index = [\"day1\", \"day2\", \"day3\"]) \n",
    "print(df.loc[[\"day2\", \"day1\"]])"
   ]
  },
  {
   "cell_type": "markdown",
   "id": "329401b1",
   "metadata": {},
   "source": [
    "# Load Files Into a DataFrame\n",
    "\n",
    "If your data sets are stored in a file, Pandas can load them into a DataFrame."
   ]
  },
  {
   "cell_type": "code",
   "execution_count": 27,
   "id": "1fd0ea1e",
   "metadata": {},
   "outputs": [
    {
     "name": "stdout",
     "output_type": "stream",
     "text": [
      "     Pregnancies  Glucose  BloodPressure  SkinThickness  Insulin   BMI  \\\n",
      "1              1       85             66             29        0  26.6   \n",
      "5              5      116             74              0        0  25.6   \n",
      "8              2      197             70             45      543  30.5   \n",
      "754            8      154             78             32        0  32.4   \n",
      "454            2      100             54             28      105  37.8   \n",
      "264            4      123             62              0        0  32.0   \n",
      "12            10      139             80              0        0  27.1   \n",
      "95             6      144             72             27      228  33.9   \n",
      "12            10      139             80              0        0  27.1   \n",
      "715            7      187             50             33      392  33.9   \n",
      "\n",
      "     DiabetesPedigreeFunction  Age  Outcome  \n",
      "1                       0.351   31        0  \n",
      "5                       0.201   30        0  \n",
      "8                       0.158   53        1  \n",
      "754                     0.443   45        1  \n",
      "454                     0.498   24        0  \n",
      "264                     0.226   35        1  \n",
      "12                      1.441   57        0  \n",
      "95                      0.255   40        0  \n",
      "12                      1.441   57        0  \n",
      "715                     0.826   34        1  \n"
     ]
    }
   ],
   "source": [
    "import pandas as pd\n",
    "\n",
    "# syntax: \"read_csv\"\n",
    "df = pd.read_csv(\"diabetes.csv\")\n",
    "print(df.loc[[1, 5, 8, 754, 454, 264, 12, 95, 12, 715]])"
   ]
  },
  {
   "cell_type": "code",
   "execution_count": null,
   "id": "67598fb0",
   "metadata": {},
   "outputs": [],
   "source": []
  }
 ],
 "metadata": {
  "kernelspec": {
   "display_name": "Python 3 (ipykernel)",
   "language": "python",
   "name": "python3"
  },
  "language_info": {
   "codemirror_mode": {
    "name": "ipython",
    "version": 3
   },
   "file_extension": ".py",
   "mimetype": "text/x-python",
   "name": "python",
   "nbconvert_exporter": "python",
   "pygments_lexer": "ipython3",
   "version": "3.9.13"
  }
 },
 "nbformat": 4,
 "nbformat_minor": 5
}
