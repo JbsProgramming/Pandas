{
 "cells": [
  {
   "cell_type": "markdown",
   "id": "fc17b0d2",
   "metadata": {},
   "source": [
    "# What is a Series?\n",
    "\n",
    "A Pandas Series is like a column in a table.\n",
    "\n",
    "It is a one-dimensional array holding data of any type"
   ]
  },
  {
   "cell_type": "code",
   "execution_count": 5,
   "id": "d857fd83",
   "metadata": {},
   "outputs": [
    {
     "name": "stdout",
     "output_type": "stream",
     "text": [
      "    Name Country  Year\n",
      "0  Jabed     USA  2024\n",
      "1   Renu  Canada  2026\n",
      "2   Kona  London  2027\n"
     ]
    }
   ],
   "source": [
    "# Previous Code\n",
    "import pandas as pd\n",
    "mydata = {\n",
    "    \"Name\":[\"Jabed\",\"Renu\",\"Kona\"],\n",
    "    \"Country\":[\"USA\", \"Canada\",\"London\"],\n",
    "    \"Year\":[2024, 2026, 2027]\n",
    "}\n",
    "\n",
    "print(pd.DataFrame(mydata))"
   ]
  },
  {
   "cell_type": "code",
   "execution_count": 17,
   "id": "4caf8f9a",
   "metadata": {},
   "outputs": [
    {
     "name": "stdout",
     "output_type": "stream",
     "text": [
      "0    1\n",
      "1    7\n",
      "2    2\n",
      "dtype: int64\n"
     ]
    }
   ],
   "source": [
    "# Series\n",
    "\n",
    "import pandas as pd\n",
    "\n",
    "a = [1, 7, 2]\n",
    "\n",
    "myvar = pd.Series(a)\n",
    "print(myvar)"
   ]
  },
  {
   "cell_type": "markdown",
   "id": "90185d8f",
   "metadata": {},
   "source": [
    "# Labels\n",
    "\n",
    "If nothing else is specified, the values are labeled with their index number. First value has index 0, second value has index 1 etc.\n",
    "\n",
    "This label can be used to access a specified value."
   ]
  },
  {
   "cell_type": "code",
   "execution_count": 13,
   "id": "012d1e65",
   "metadata": {},
   "outputs": [
    {
     "name": "stdout",
     "output_type": "stream",
     "text": [
      "6\n"
     ]
    }
   ],
   "source": [
    "# Labels\n",
    "\n",
    "import pandas as pd\n",
    "\n",
    "a = [1, 7, 2, 9, 4, 6, 3, 2, 0, 5]\n",
    "\n",
    "myvar = pd.Series(a)\n",
    "print(myvar[5])"
   ]
  },
  {
   "cell_type": "markdown",
   "id": "b66e7eeb",
   "metadata": {},
   "source": [
    "# Create Labels\n",
    "\n",
    "With the <b>index</b> argument, you can name your own labels."
   ]
  },
  {
   "cell_type": "code",
   "execution_count": 18,
   "id": "cc836a81",
   "metadata": {},
   "outputs": [
    {
     "name": "stdout",
     "output_type": "stream",
     "text": [
      "A    1\n",
      "B    7\n",
      "C    2\n",
      "D    9\n",
      "E    4\n",
      "dtype: int64\n"
     ]
    }
   ],
   "source": [
    "# index\n",
    "\n",
    "import pandas as pd\n",
    "\n",
    "a = [1, 7, 2, 9, 4]\n",
    "\n",
    "myvar = pd.Series(a, index = [\"A\", \"B\", \"C\", \"D\", \"E\"])\n",
    "print(myvar)"
   ]
  },
  {
   "cell_type": "markdown",
   "id": "630adb42",
   "metadata": {},
   "source": [
    "When we have created labels, we can access an item by referring to the label."
   ]
  },
  {
   "cell_type": "code",
   "execution_count": 20,
   "id": "10dd2107",
   "metadata": {},
   "outputs": [
    {
     "name": "stdout",
     "output_type": "stream",
     "text": [
      "2\n"
     ]
    }
   ],
   "source": [
    "# index\n",
    "\n",
    "import pandas as pd\n",
    "\n",
    "a = [1, 7, 2, 9, 4]\n",
    "\n",
    "myvar = pd.Series(a, index = [\"A\", \"B\", \"C\", \"D\", \"E\"])\n",
    "print(myvar[\"C\"])"
   ]
  },
  {
   "cell_type": "markdown",
   "id": "f18562c4",
   "metadata": {},
   "source": [
    "# Key/Value Objects as Series"
   ]
  },
  {
   "cell_type": "code",
   "execution_count": 27,
   "id": "bb5961ff",
   "metadata": {},
   "outputs": [
    {
     "name": "stdout",
     "output_type": "stream",
     "text": [
      "day1    159\n",
      "day2    199\n",
      "day3    251\n",
      "day5    185\n",
      "day6    286\n",
      "day7    400\n",
      "dtype: int64\n",
      "\n",
      "Data Set of Calories Buring: \n",
      "\n",
      "     Days  Calorie Burns\n",
      "0  Day 1            198\n",
      "1  Day 2            241\n",
      "2  Day 3            159\n",
      "3  Day 4            269\n",
      "4  Day 5            327\n",
      "5  Day 6            390\n",
      "6  Day 7            450\n"
     ]
    }
   ],
   "source": [
    "import pandas as pd\n",
    "\n",
    "calories = {\n",
    "    \"day1\":159, \"day2\":199, \"day3\":251, \"day5\":185, \"day6\":286, \"day7\":400\n",
    "}\n",
    "\n",
    "data = pd.Series(calories)\n",
    "print(data)\n",
    "\n",
    "datacalories = {\n",
    "    \"Days\":[\"Day 1\", \"Day 2\", \"Day 3\", \"Day 4\", \"Day 5\", \"Day 6\", \"Day 7\"],\n",
    "    \"Calorie Burns\":[198, 241, 159, 269, 327, 390, 450]\n",
    "}\n",
    "dataset = pd.DataFrame(datacalories)\n",
    "print(\"\\nData Set of Calories Buring: \\n\\n\", dataset)"
   ]
  },
  {
   "cell_type": "code",
   "execution_count": 28,
   "id": "a8ee6209",
   "metadata": {},
   "outputs": [
    {
     "name": "stdout",
     "output_type": "stream",
     "text": [
      "day5    185\n",
      "day2    199\n",
      "dtype: int64\n"
     ]
    }
   ],
   "source": [
    "import pandas as pd\n",
    "\n",
    "calories = {\n",
    "    \"day1\":159, \"day2\":199, \"day3\":251, \"day5\":185, \"day6\":286, \"day7\":400\n",
    "}\n",
    "\n",
    "data = pd.Series(calories, index = [\"day5\", \"day2\"])\n",
    "print(data)"
   ]
  },
  {
   "cell_type": "markdown",
   "id": "ad1ac1f6",
   "metadata": {},
   "source": [
    "# DataFrames\n",
    "\n",
    "Data sets in Pandas are usually multi-dimensional tables, called DataFrames.\n",
    "\n",
    "Series is like a column, a DataFrame is the whole table."
   ]
  },
  {
   "cell_type": "code",
   "execution_count": 29,
   "id": "5fe15bce",
   "metadata": {},
   "outputs": [
    {
     "name": "stdout",
     "output_type": "stream",
     "text": [
      "   Calories  Duration\n",
      "0       426        55\n",
      "1       401        48\n",
      "2       386        35\n",
      "3       319        21\n",
      "4       399        46\n"
     ]
    }
   ],
   "source": [
    "import pandas as pd\n",
    "\n",
    "data = {\n",
    "    \"Calories\": [426, 401, 386, 319, 399],\n",
    "    \"Duration\": [55, 48, 35, 21, 46]\n",
    "}\n",
    "\n",
    "mydata = pd.DataFrame(data)\n",
    "print(mydata)"
   ]
  },
  {
   "cell_type": "code",
   "execution_count": null,
   "id": "652fe24f",
   "metadata": {},
   "outputs": [],
   "source": []
  }
 ],
 "metadata": {
  "kernelspec": {
   "display_name": "Python 3 (ipykernel)",
   "language": "python",
   "name": "python3"
  },
  "language_info": {
   "codemirror_mode": {
    "name": "ipython",
    "version": 3
   },
   "file_extension": ".py",
   "mimetype": "text/x-python",
   "name": "python",
   "nbconvert_exporter": "python",
   "pygments_lexer": "ipython3",
   "version": "3.9.13"
  }
 },
 "nbformat": 4,
 "nbformat_minor": 5
}
