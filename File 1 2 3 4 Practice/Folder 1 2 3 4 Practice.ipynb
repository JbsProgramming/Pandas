{
 "cells": [
  {
   "cell_type": "markdown",
   "id": "e44bcac0",
   "metadata": {},
   "source": [
    "# Files of folder 1234 Preview\n",
    "\n",
    "#### @jabedkhanjb"
   ]
  },
  {
   "cell_type": "markdown",
   "id": "d7e7b002",
   "metadata": {},
   "source": [
    "# DataFrame"
   ]
  },
  {
   "cell_type": "code",
   "execution_count": 31,
   "id": "29e83b71",
   "metadata": {},
   "outputs": [
    {
     "name": "stdout",
     "output_type": "stream",
     "text": [
      "   Calories  Duration\n",
      "0       233        34\n",
      "1       343        54\n",
      "2       432        23\n",
      "3       234        54\n",
      "4       545        65\n",
      "5       654        76\n",
      "6       455        34\n",
      "       Calories  Duration\n",
      "Day 1       233        34\n",
      "Day 2       343        54\n",
      "Day 3       432        23\n",
      "Day 4       234        54\n",
      "Day 5       545        65\n",
      "Day 6       654        76\n",
      "Day 7       455        34\n",
      "   Calories  Duration\n",
      "1       343        54\n",
      "5       654        76\n",
      "2       432        23\n",
      "Calories    455\n",
      "Duration     34\n",
      "Name: 6, dtype: int64\n",
      "       Calories  Duration\n",
      "Day 1       233        34\n",
      "Day 7       455        34\n",
      "Calories    432\n",
      "Duration     23\n",
      "Name: Day 3, dtype: int64\n",
      "\n",
      "Loads file into DataFrame using read_csv syntax\n",
      "\n",
      "     Pregnancies  Glucose  BloodPressure  SkinThickness  Insulin   BMI  \\\n",
      "5              5      116             74              0        0  25.6   \n",
      "6              3       78             50             32       88  31.0   \n",
      "45             0      180             66             39        0  42.0   \n",
      "49             7      105              0              0        0   0.0   \n",
      "99             1      122             90             51      220  49.7   \n",
      "100            1      163             72              0        0  39.0   \n",
      "200            0      113             80             16        0  31.0   \n",
      "400            4       95             64              0        0  32.0   \n",
      "655            2      155             52             27      540  38.7   \n",
      "666            4      145             82             18        0  32.5   \n",
      "555            7      124             70             33      215  25.5   \n",
      "333           12      106             80              0        0  23.6   \n",
      "222            7      119              0              0        0  25.2   \n",
      "111            8      155             62             26      495  34.0   \n",
      "756            7      137             90             41        0  32.0   \n",
      "\n",
      "     DiabetesPedigreeFunction  Age  Outcome  \n",
      "5                       0.201   30        0  \n",
      "6                       0.248   26        1  \n",
      "45                      1.893   25        1  \n",
      "49                      0.305   24        0  \n",
      "99                      0.325   31        1  \n",
      "100                     1.222   33        1  \n",
      "200                     0.874   21        0  \n",
      "400                     0.161   31        1  \n",
      "655                     0.240   25        1  \n",
      "666                     0.235   70        1  \n",
      "555                     0.161   37        0  \n",
      "333                     0.137   44        0  \n",
      "222                     0.209   37        0  \n",
      "111                     0.543   46        1  \n",
      "756                     0.391   39        0  \n"
     ]
    }
   ],
   "source": [
    "import pandas as pd\n",
    "\n",
    "mydata = {\n",
    "    \"Calories\": [233, 343, 432, 234, 545, 654, 455],\n",
    "    \"Duration\": [34, 54, 23, 54, 65, 76, 34]\n",
    "}\n",
    "\n",
    "showdata = pd.DataFrame(mydata)\n",
    "\n",
    "print(showdata)\n",
    "\n",
    "# index add\n",
    "indexdata = pd.DataFrame(mydata, index = [\"Day 1\", \"Day 2\", \"Day 3\", \"Day 4\", \"Day 5\", \"Day 6\", \"Day 7\"])\n",
    "\n",
    "print(indexdata)\n",
    "\n",
    "# print data with indexing number using loc (locate row)\n",
    "print(showdata.loc[[1, 5, 2]])\n",
    "print(showdata.loc[6])\n",
    "\n",
    "# print data calling index name if it is added\n",
    "print(indexdata.loc[[\"Day 1\", \"Day 7\"]])\n",
    "print(indexdata.loc[\"Day 3\"])\n",
    "\n",
    "print(\"\\nLoads file into DataFrame using read_csv syntax\\n\")\n",
    "\n",
    "csv = pd.read_csv(\"diabetes.csv\")\n",
    "print(csv.loc[[5, 6, 45, 49, 99, 100, 200, 400, 655, 666, 555, 333, 222, 111, 756]])"
   ]
  },
  {
   "cell_type": "markdown",
   "id": "18218e96",
   "metadata": {},
   "source": [
    "# Series"
   ]
  },
  {
   "cell_type": "code",
   "execution_count": 28,
   "id": "ff93521f",
   "metadata": {},
   "outputs": [
    {
     "name": "stdout",
     "output_type": "stream",
     "text": [
      "0    34\n",
      "1    54\n",
      "2    24\n",
      "3    64\n",
      "4    45\n",
      "5    64\n",
      "6    63\n",
      "7    75\n",
      "8    97\n",
      "9    30\n",
      "dtype: int64\n"
     ]
    }
   ],
   "source": [
    "import pandas as pd\n",
    "\n",
    "nmbr = [34, 54, 24, 64, 45, 64, 63, 75, 97, 30]\n",
    "\n",
    "# Syntax starts with upper case \"Series\"\n",
    "s = pd.Series(nmbr)\n",
    "print(s)"
   ]
  },
  {
   "cell_type": "code",
   "execution_count": 40,
   "id": "84d5b688",
   "metadata": {},
   "outputs": [
    {
     "name": "stdout",
     "output_type": "stream",
     "text": [
      "Insert Index number between 0 to 9: 5\n",
      "from Series, index number 5 has  64\n",
      "Ifaz        34\n",
      "Akhi        54\n",
      "Shaminaj    24\n",
      "Selim       64\n",
      "Rana        45\n",
      "Ashish      64\n",
      "Rabbi       63\n",
      "Rejwan      75\n",
      "Jabed       97\n",
      "Rafsan      30\n",
      "dtype: int64\n",
      "Jabed     97\n",
      "Rejwan    75\n",
      "dtype: int64\n"
     ]
    }
   ],
   "source": [
    "import pandas as pd\n",
    "\n",
    "nmbr = [34, 54, 24, 64, 45, 64, 63, 75, 97, 30]\n",
    "\n",
    "# labels\n",
    "s = pd.Series(nmbr)\n",
    "\n",
    "index = int(input(\"Insert Index number between 0 to 9: \"))\n",
    "print(f\"from Series, index number {index} has \",s[index])\n",
    "\n",
    "# create labels with index argument\n",
    "import pandas as pd\n",
    "\n",
    "nmbr = [34, 54, 24, 64, 45, 64, 63, 75, 97, 30]\n",
    "\n",
    "# create labels\n",
    "s = pd.Series(nmbr, index = [\"Ifaz\", \"Akhi\", \"Shaminaj\", \"Selim\", \"Rana\", \"Ashish\", \"Rabbi\", \"Rejwan\", \"Jabed\", \"Rafsan\"])\n",
    "print(s)\n",
    "\n",
    "print(s[[\"Jabed\", \"Rejwan\"]])\n",
    "\n"
   ]
  },
  {
   "cell_type": "code",
   "execution_count": 48,
   "id": "e135a971",
   "metadata": {},
   "outputs": [
    {
     "name": "stdout",
     "output_type": "stream",
     "text": [
      "Day 4    345\n",
      "Day 7    454\n",
      "dtype: int64\n"
     ]
    }
   ],
   "source": [
    "import pandas as pd\n",
    "\n",
    "calories = {\n",
    "    \"Day 1\": 454,\n",
    "    \"Day 2\": 645,\n",
    "    \"Day 3\": 524,\n",
    "    \"Day 4\": 345,\n",
    "    \"Day 5\": 454,\n",
    "    \"Day 6\": 645,\n",
    "    \"Day 7\": 454    \n",
    "}\n",
    "\n",
    "s = pd.Series(calories, index = [\"Day 4\", \"Day 7\"])\n",
    "print(s)"
   ]
  },
  {
   "cell_type": "code",
   "execution_count": null,
   "id": "011c8c62",
   "metadata": {},
   "outputs": [],
   "source": []
  }
 ],
 "metadata": {
  "kernelspec": {
   "display_name": "Python 3 (ipykernel)",
   "language": "python",
   "name": "python3"
  },
  "language_info": {
   "codemirror_mode": {
    "name": "ipython",
    "version": 3
   },
   "file_extension": ".py",
   "mimetype": "text/x-python",
   "name": "python",
   "nbconvert_exporter": "python",
   "pygments_lexer": "ipython3",
   "version": "3.9.13"
  }
 },
 "nbformat": 4,
 "nbformat_minor": 5
}
