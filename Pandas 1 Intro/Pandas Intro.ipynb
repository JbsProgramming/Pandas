{
 "cells": [
  {
   "cell_type": "markdown",
   "id": "5c64f5c8",
   "metadata": {},
   "source": [
    "# What is Pandas?\n",
    "Pandas is a Python library used for working with data sets.\n",
    "\n",
    "It has functions for analyzing, cleaning, exploring, and manipulating data.\n",
    "\n",
    "The name \"Pandas\" has a reference to both \"Panel Data\", and \"Python Data Analysis\" and was created by Wes McKinney in 2008.\n"
   ]
  },
  {
   "cell_type": "markdown",
   "id": "f373c380",
   "metadata": {},
   "source": [
    "# Why Use Pandas?\n",
    "\n",
    "Pandas allows us to analyze big data and make conclusions based on statistical theories.\n",
    "\n",
    "Pandas can clean messy data sets, and make them readable and relevant.\n",
    "\n",
    "Relevant data is very important in data science."
   ]
  },
  {
   "cell_type": "markdown",
   "id": "59df2f06",
   "metadata": {},
   "source": [
    "# :}\n",
    "\n",
    "<b>Data Science:</b> is a branch of computer science where we study how to store, use and analyze data for deriving information from it.\n"
   ]
  },
  {
   "cell_type": "markdown",
   "id": "5467267e",
   "metadata": {},
   "source": [
    "# What Can Pandas Do?\n",
    "\n",
    "Pandas gives us answers about the data. Like:\n",
    "\n",
    "    Is there a correlation between two or more columns?\n",
    "    What is average value?\n",
    "    Max value?\n",
    "    Min value?\n",
    "\n",
    "Pandas are also able to delete rows that are not relevant, or contains wrong values, like empty or NULL values. This is called <i>cleaning</i> the data."
   ]
  },
  {
   "cell_type": "code",
   "execution_count": null,
   "id": "239f85fe",
   "metadata": {},
   "outputs": [],
   "source": []
  }
 ],
 "metadata": {
  "kernelspec": {
   "display_name": "Python 3 (ipykernel)",
   "language": "python",
   "name": "python3"
  },
  "language_info": {
   "codemirror_mode": {
    "name": "ipython",
    "version": 3
   },
   "file_extension": ".py",
   "mimetype": "text/x-python",
   "name": "python",
   "nbconvert_exporter": "python",
   "pygments_lexer": "ipython3",
   "version": "3.9.13"
  }
 },
 "nbformat": 4,
 "nbformat_minor": 5
}
